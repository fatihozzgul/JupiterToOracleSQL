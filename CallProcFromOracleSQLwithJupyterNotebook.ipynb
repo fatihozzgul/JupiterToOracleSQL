{
  "nbformat": 4,
  "nbformat_minor": 0,
  "metadata": {
    "colab": {
      "provenance": []
    },
    "kernelspec": {
      "name": "python3",
      "display_name": "Python 3"
    },
    "language_info": {
      "name": "python"
    }
  },
  "cells": [
    {
      "cell_type": "code",
      "execution_count": null,
      "metadata": {
        "id": "K78RgeuSaig2"
      },
      "outputs": [],
      "source": [
        "import cx_Oracle\n",
        "from datetime import datetime\n",
        "\n",
        "# Connect to the database\n",
        "connection = cx_Oracle.connect(\"username\", \"password\", \"database_name\")\n",
        "\n",
        "# Create a cursor\n",
        "cursor = connection.cursor()\n",
        "\n",
        "# Define the date string\n",
        "last_date_str = \"30.11.2022\"\n",
        "\n",
        "# Parse the date string and convert it to a date object\n",
        "last_date = datetime.strptime(last_date_str, \"%d.%m.%Y\").date()\n",
        "\n",
        "# Call the procedure\n",
        "cursor.callproc(\"SCHEMA.FILLNULLCUSTOMERNATIONALID\", [last_date])  # We assume that this fabrication procedure is in oracle, filling in missing information for customers with blank ID numbers.\n",
        "                                                                   # SCHEMA=database_name!!!\n",
        "\n",
        "# Commit the changes\n",
        "connection.commit()\n",
        "\n",
        "# Close the cursor and connection\n",
        "cursor.close()\n",
        "connection.close()"
      ]
    }
  ]
}