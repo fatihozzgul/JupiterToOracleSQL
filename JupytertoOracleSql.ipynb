{
  "nbformat": 4,
  "nbformat_minor": 0,
  "metadata": {
    "colab": {
      "provenance": []
    },
    "kernelspec": {
      "name": "python3",
      "display_name": "Python 3"
    },
    "language_info": {
      "name": "python"
    }
  },
  "cells": [
    {
      "cell_type": "code",
      "execution_count": null,
      "metadata": {
        "id": "FbPaPgMBJ_Pe"
      },
      "outputs": [],
      "source": [
        "import cx_Oracle\n",
        "\n",
        "# You should enter DSN,Username and Password information\n",
        "\n",
        "dsn = \"dsn_name\"\n",
        "username = \"user_name\"\n",
        "password = \"password\"\n",
        "\n",
        "# Connect Oracle Sql Dataframe\n",
        "conn = cx_Oracle.connect(username, password, dsn)\n",
        "\n",
        "# Control the connection\n",
        "print(conn.version)\n",
        "\n",
        "# Create cursor\n",
        "cursor = conn.cursor()\n",
        "\n",
        "# At this point, you should write a query that returns the information you need.\n",
        "query = \"SELECT * FROM CST_CUSTOMER\"\n",
        "\n",
        "# Run the query and get the results\n",
        "cursor.execute(query)\n",
        "results = cursor.fetchall()\n",
        "\n",
        "# Print the results to the screen\n",
        "for result in results:\n",
        "    print(result)\n",
        "\n",
        "# First close the cursor, then the connection\n",
        "cursor.close()\n",
        "conn.close()"
      ]
    }
  ]
}